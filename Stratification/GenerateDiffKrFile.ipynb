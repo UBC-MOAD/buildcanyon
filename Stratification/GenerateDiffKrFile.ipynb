{
 "cells": [
  {
   "cell_type": "markdown",
   "metadata": {},
   "source": [
    "3DDiff file \n",
    "=========================================================================\n",
    "\n",
    "Set values of diffusivity within canyon from another Kv file. \n",
    "\n",
    "K. Ramos-Musalem"
   ]
  },
  {
   "cell_type": "code",
   "execution_count": 1,
   "metadata": {
    "collapsed": false
   },
   "outputs": [],
   "source": [
    "import numpy as np\n",
    "\n",
    "import matplotlib.pyplot as plt\n",
    "\n",
    "from math import *\n",
    "\n",
    "import struct\n",
    "\n",
    "from netCDF4 import Dataset\n",
    "\n",
    "\n",
    "%matplotlib inline"
   ]
  },
  {
   "cell_type": "code",
   "execution_count": 2,
   "metadata": {
    "collapsed": false
   },
   "outputs": [],
   "source": [
    "import canyon_tools.readout_tools as rout"
   ]
  },
  {
   "cell_type": "code",
   "execution_count": 3,
   "metadata": {
    "collapsed": true
   },
   "outputs": [],
   "source": [
    "nx = 360\n",
    "ny = 360\n",
    "nz = 90"
   ]
  },
  {
   "cell_type": "code",
   "execution_count": 4,
   "metadata": {
    "collapsed": false
   },
   "outputs": [],
   "source": [
    "## Get grid variables\n",
    "filename='/ocean/kramosmu/MITgcm/TracerExperiments/CNTDIFF/run42/gridGlob.nc'\n",
    "GridOut = Dataset(filename)\n",
    "\n",
    "#for dimobj in GridOut.variables.values():\n",
    "#    print dimobj\n",
    "\n",
    "hFacC = rout.getField(filename,'HFacC') #(90,360,360)\n",
    "hFacCmasked = np.ma.masked_values(hFacC, 0)\n",
    "rA = rout.getField(filename,'rA')\n",
    "\n",
    "drF= GridOut.variables['drF']\n",
    "MASKhFacC = np.ma.getmask(hFacCmasked)\n"
   ]
  },
  {
   "cell_type": "code",
   "execution_count": 13,
   "metadata": {
    "collapsed": false
   },
   "outputs": [
    {
     "data": {
      "image/png": "[encoded data removed]",
      "text/plain": [
       "<matplotlib.figure.Figure at 0x7f511ff25240>"
      ]
     },
     "metadata": {},
     "output_type": "display_data"
    }
   ],
   "source": [
    "# Get Kv values from binary file\n",
    "dt = np.dtype('>f8')  # float 64 big endian\n",
    "\n",
    "fileNAME = \"%dx%dx%d/KrDiff1E_5_1E_3_%dzlev_%dx%d_Quad.bin\" %(nx,ny,nz,nz,nx,ny)\n",
    "\n",
    "kv =np.fromfile(fileNAME, dt)\n",
    "kv_new = np.fromfile(fileNAME, dt)\n",
    "\n",
    "kv_new[kv_new == 1E-3] = 5E-3\n",
    "\n",
    "Kv=np.reshape(kv,(nz,ny,nx),order='C')\n",
    "np.shape(Kv)\n",
    "\n",
    "Kv_new=np.reshape(kv_new,(nz,ny,nx),order='C')\n",
    "np.shape(Kv_new)\n",
    "\n",
    "fig,ax = plt.subplots(2,1)\n",
    "\n",
    "p1 = ax[0].plot(Kv[29,:,180])\n",
    "\n",
    "ax[0].set_yscale('log')\n",
    "p2 = ax[1].plot(Kv_new[29,:,180])\n",
    "ax[1].set_yscale('log')\n",
    "plt.show()"
   ]
  },
  {
   "cell_type": "code",
   "execution_count": 14,
   "metadata": {
    "collapsed": false
   },
   "outputs": [],
   "source": [
    "# Save binary file\n",
    "filename = \"%dx%dx%d/KrDiff1E_5_5E_3_%dzlev_%dx%d_Quad.bin\" %(nx,ny,nz,nz,nx,ny)\n",
    "fileobj = open(filename,mode='wb')\n",
    "kv_new.astype(dt).tofile(fileobj,\"\")\n",
    "fileobj.close()\n"
   ]
  },
  {
   "cell_type": "code",
   "execution_count": 15,
   "metadata": {
    "collapsed": false
   },
   "outputs": [
    {
     "data": {
      "image/png": "[encoded data removed]",
      "text/plain": [
       "<matplotlib.figure.Figure at 0x7f511feecba8>"
      ]
     },
     "metadata": {},
     "output_type": "display_data"
    }
   ],
   "source": [
    "# Get Kv values from binary file\n",
    "dt = np.dtype('>f8')  # float 64 big endian\n",
    "\n",
    "kv_check = np.fromfile(filename, dt)\n",
    "\n",
    "\n",
    "Kv_check= np.reshape(kv_check,(nz,ny,nx),order='C')\n",
    "np.shape(Kv_check)\n",
    "\n",
    "\n",
    "fig,ax = plt.subplots(1,1)\n",
    "\n",
    "p1 = ax.plot(Kv_check[30,:,180])\n",
    "\n",
    "plt.show()"
   ]
  },
  {
   "cell_type": "code",
   "execution_count": null,
   "metadata": {
    "collapsed": false
   },
   "outputs": [],
   "source": []
  },
  {
   "cell_type": "code",
   "execution_count": null,
   "metadata": {
    "collapsed": false
   },
   "outputs": [],
   "source": []
  },
  {
   "cell_type": "code",
   "execution_count": null,
   "metadata": {
    "collapsed": false
   },
   "outputs": [],
   "source": [
    "\n"
   ]
  },
  {
   "cell_type": "code",
   "execution_count": null,
   "metadata": {
    "collapsed": false
   },
   "outputs": [],
   "source": [
    "\n"
   ]
  },
  {
   "cell_type": "code",
   "execution_count": null,
   "metadata": {
    "collapsed": false
   },
   "outputs": [],
   "source": []
  },
  {
   "cell_type": "code",
   "execution_count": null,
   "metadata": {
    "collapsed": false
   },
   "outputs": [],
   "source": [
    "\n"
   ]
  },
  {
   "cell_type": "code",
   "execution_count": null,
   "metadata": {
    "collapsed": false
   },
   "outputs": [],
   "source": [
    "\n"
   ]
  },
  {
   "cell_type": "code",
   "execution_count": null,
   "metadata": {
    "collapsed": false
   },
   "outputs": [],
   "source": [
    "\n"
   ]
  },
  {
   "cell_type": "code",
   "execution_count": null,
   "metadata": {
    "collapsed": false
   },
   "outputs": [],
   "source": []
  },
  {
   "cell_type": "code",
   "execution_count": null,
   "metadata": {
    "collapsed": false
   },
   "outputs": [],
   "source": []
  },
  {
   "cell_type": "code",
   "execution_count": null,
   "metadata": {
    "collapsed": false
   },
   "outputs": [],
   "source": []
  },
  {
   "cell_type": "code",
   "execution_count": null,
   "metadata": {
    "collapsed": false
   },
   "outputs": [],
   "source": []
  },
  {
   "cell_type": "code",
   "execution_count": null,
   "metadata": {
    "collapsed": true
   },
   "outputs": [],
   "source": []
  }
 ],
 "metadata": {
  "anaconda-cloud": {},
  "kernelspec": {
   "display_name": "Python [conda root]",
   "language": "python",
   "name": "conda-root-py"
  },
  "language_info": {
   "codemirror_mode": {
    "name": "ipython",
    "version": 3
   },
   "file_extension": ".py",
   "mimetype": "text/x-python",
   "name": "python",
   "nbconvert_exporter": "python",
   "pygments_lexer": "ipython3",
   "version": "3.5.2"
  }
 },
 "nbformat": 4,
 "nbformat_minor": 0
}
