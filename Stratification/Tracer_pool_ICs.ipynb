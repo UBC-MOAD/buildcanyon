{
 "cells": [
  {
   "cell_type": "markdown",
   "metadata": {},
   "source": [
    "Generate tracer initial conditions from upwelling run Astoria base case at day 9"
   ]
  },
  {
   "cell_type": "markdown",
   "metadata": {},
   "source": [
    "## Generate pool initial conditions for tracers"
   ]
  },
  {
   "cell_type": "code",
   "execution_count": 1,
   "metadata": {},
   "outputs": [],
   "source": [
    "import matplotlib.pyplot as plt\n",
    "%matplotlib inline\n",
    "from netCDF4 import Dataset\n",
    "import numpy as np\n",
    "import seaborn as sns\n",
    "import xarray as xr\n",
    "import canyon_tools.readout_tools as rdout"
   ]
  },
  {
   "cell_type": "code",
   "execution_count": 7,
   "metadata": {},
   "outputs": [],
   "source": [
    "gridCan_file = '/data/kramosmu/results/TracerExperiments/UPW_10TR_BF2_AST/01_Ast03/gridGlob.nc'\n",
    "gridNoC_file = '/data/kramosmu/results/TracerExperiments/UPW_10TR_BF2_AST/02_Ast03_No_Cny/gridGlob.nc'\n",
    "state_file = '/data/kramosmu/results/TracerExperiments/UPW_10TR_BF2_AST/01_Ast03/stateGlob.nc'\n",
    "ptracers_file = '/data/kramosmu/results/TracerExperiments/UPW_10TR_BF2_AST/01_Ast03/ptracersGlob.nc'\n",
    "stateNoC_file = '/data/kramosmu/results/TracerExperiments/UPW_10TR_BF2_AST/02_Ast03_No_Cny/stateGlob.nc'\n",
    "ptracersNoC_file = '/data/kramosmu/results/TracerExperiments/UPW_10TR_BF2_AST/02_Ast03_No_Cny/ptracersGlob.nc'\n",
    "\n",
    "gridNoC = xr.open_dataset(gridNoC_file)\n",
    "gridCan = xr.open_dataset(gridCan_file)\n",
    "state = xr.open_dataset(state_file)\n",
    "ptracers = xr.open_dataset(ptracers_file)\n",
    "stateNoC = xr.open_dataset(stateNoC_file)\n",
    "ptracersNoC = xr.open_dataset(ptracersNoC_file)"
   ]
  },
  {
   "cell_type": "markdown",
   "metadata": {
    "collapsed": true
   },
   "source": [
    "### Generate initial conditions (Tr)"
   ]
  },
  {
   "cell_type": "code",
   "execution_count": 3,
   "metadata": {},
   "outputs": [],
   "source": [
    "tr01 = ptracers.Tr01.isel(T=17)\n",
    "tr02 = ptracers.Tr02.isel(T=17)\n",
    "tr03 = ptracers.Tr03.isel(T=17)\n",
    "tr04 = ptracers.Tr04.isel(T=17)\n",
    "tr05 = ptracers.Tr05.isel(T=17)\n",
    "tr06 = ptracers.Tr06.isel(T=17)\n",
    "tr07 = ptracers.Tr07.isel(T=17)\n",
    "tr08 = ptracers.Tr08.isel(T=17)\n",
    "tr09 = ptracers.Tr09.isel(T=17)\n",
    "tr10 = ptracers.Tr10.isel(T=17)\n",
    "\n",
    "dt = np.dtype('>f8')  # float 64 big endian\n",
    "\n",
    "filenames = ['616x360x104/Linnit104zlev_pool_616x360.bin',\n",
    "             '616x360x104/Barkley_sal_104zlev_pool_616x360.bin',\n",
    "             '616x360x104/Barkley_oxy_104zlev_pool_616x360.bin',\n",
    "             '616x360x104/Barkley_nit_104zlev_pool_616x360.bin',\n",
    "             '616x360x104/Barkley_sil_104zlev_pool_616x360.bin',\n",
    "             '616x360x104/Barkley_pho_104zlev_pool_616x360.bin',\n",
    "             '616x360x104/LineCSep2013_nox_104zlev_pool_616x360.bin',\n",
    "             '616x360x104/LineCSep2013_met_104zlev_pool_616x360.bin',\n",
    "             '616x360x104/Barkley_DIC_104zlev_pool_616x360.bin',\n",
    "             '616x360x104/Barkley_Alk_104zlev_pool_616x360.bin']\n",
    "\n",
    "for tr, fname in zip([tr01,tr02,tr03,tr04,tr05,tr06,tr07,tr08,tr09,tr10],filenames):\n",
    "    tr_arr = np.array(tr.data)\n",
    "    # save binary files\n",
    "    fileobj1 = open(fname,mode='wb')\n",
    "    np.array(tr_arr).astype(dt).tofile(fileobj1,\"\")\n",
    "    fileobj1.close()"
   ]
  },
  {
   "cell_type": "code",
   "execution_count": 4,
   "metadata": {},
   "outputs": [
    {
     "name": "stdout",
     "output_type": "stream",
     "text": [
      "(616, 360, 104)\n"
     ]
    },
    {
     "data": {
      "text/plain": [
       "Text(0.5,1,'Tr1')"
      ]
     },
     "execution_count": 4,
     "metadata": {},
     "output_type": "execute_result"
    },
    {
     "data": {
      "image/png": "[encoded data removed]",
      "text/plain": [
       "<Figure size 432x432 with 2 Axes>"
      ]
     },
     "metadata": {},
     "output_type": "display_data"
    }
   ],
   "source": [
    "# Check what we wrote\n",
    "fileNAME = \"616x360x104/Linnit104zlev_pool_616x360.bin\" \n",
    "dataT = np.fromfile(fileNAME, dt)\n",
    "\n",
    "T_check = np.reshape(dataT,(616,360,104),order='F')\n",
    "print(T_check.shape)\n",
    "\n",
    "fig,ax = plt.subplots(1,1,figsize=(6,6))\n",
    "\n",
    "pcol1 = ax.pcolormesh(T_check[:,:,30], cmap = 'viridis')\n",
    "plt.colorbar(pcol1,ax = ax)\n",
    "ax.set_title('Tr1')\n"
   ]
  },
  {
   "cell_type": "markdown",
   "metadata": {},
   "source": [
    "### For No Canyon Cases"
   ]
  },
  {
   "cell_type": "code",
   "execution_count": 8,
   "metadata": {},
   "outputs": [],
   "source": [
    "tr01 = ptracersNoC.Tr01.isel(T=17)\n",
    "tr02 = ptracersNoC.Tr02.isel(T=17)\n",
    "tr03 = ptracersNoC.Tr03.isel(T=17)\n",
    "tr04 = ptracersNoC.Tr04.isel(T=17)\n",
    "tr05 = ptracersNoC.Tr05.isel(T=17)\n",
    "tr06 = ptracersNoC.Tr06.isel(T=17)\n",
    "tr07 = ptracersNoC.Tr07.isel(T=17)\n",
    "tr08 = ptracersNoC.Tr08.isel(T=17)\n",
    "tr09 = ptracersNoC.Tr09.isel(T=17)\n",
    "tr10 = ptracersNoC.Tr10.isel(T=17)\n",
    "\n",
    "dt = np.dtype('>f8')  # float 64 big endian\n",
    "\n",
    "filenames = ['616x360x104/Linnit104zlev_poolNoC_616x360.bin',\n",
    "             '616x360x104/Barkley_sal_104zlev_poolNoC_616x360.bin',\n",
    "             '616x360x104/Barkley_oxy_104zlev_poolNoC_616x360.bin',\n",
    "             '616x360x104/Barkley_nit_104zlev_poolNoC_616x360.bin',\n",
    "             '616x360x104/Barkley_sil_104zlev_poolNoC_616x360.bin',\n",
    "             '616x360x104/Barkley_pho_104zlev_poolNoC_616x360.bin',\n",
    "             '616x360x104/LineCSep2013_nox_104zlev_poolNoC_616x360.bin',\n",
    "             '616x360x104/LineCSep2013_met_104zlev_poolNoC_616x360.bin',\n",
    "             '616x360x104/Barkley_DIC_104zlev_poolNoC_616x360.bin',\n",
    "             '616x360x104/Barkley_Alk_104zlev_poolNoC_616x360.bin']\n",
    "\n",
    "for tr, fname in zip([tr01,tr02,tr03,tr04,tr05,tr06,tr07,tr08,tr09,tr10],filenames):\n",
    "    tr_arr = np.array(tr.data)\n",
    "    # save binary files\n",
    "    fileobj1 = open(fname,mode='wb')\n",
    "    np.array(tr_arr).astype(dt).tofile(fileobj1,\"\")\n",
    "    fileobj1.close()"
   ]
  },
  {
   "cell_type": "code",
   "execution_count": 9,
   "metadata": {},
   "outputs": [
    {
     "name": "stdout",
     "output_type": "stream",
     "text": [
      "(616, 360, 104)\n"
     ]
    },
    {
     "data": {
      "text/plain": [
       "Text(0.5,1,'Tr1')"
      ]
     },
     "execution_count": 9,
     "metadata": {},
     "output_type": "execute_result"
    },
    {
     "data": {
      "image/png": "[encoded data removed]",
      "text/plain": [
       "<Figure size 432x432 with 2 Axes>"
      ]
     },
     "metadata": {},
     "output_type": "display_data"
    }
   ],
   "source": [
    "# Check what we wrote\n",
    "fileNAME = \"616x360x104/Linnit104zlev_poolNoC_616x360.bin\" \n",
    "dataT = np.fromfile(fileNAME, dt)\n",
    "\n",
    "T_check = np.reshape(dataT,(616,360,104),order='F')\n",
    "print(T_check.shape)\n",
    "\n",
    "fig,ax = plt.subplots(1,1,figsize=(6,6))\n",
    "\n",
    "pcol1 = ax.pcolormesh(T_check[:,:,30], cmap = 'viridis')\n",
    "plt.colorbar(pcol1,ax = ax)\n",
    "ax.set_title('Tr1')\n"
   ]
  },
  {
   "cell_type": "code",
   "execution_count": null,
   "metadata": {},
   "outputs": [],
   "source": []
  }
 ],
 "metadata": {
  "anaconda-cloud": {},
  "kernelspec": {
   "display_name": "Python [conda root]",
   "language": "python",
   "name": "conda-root-py"
  },
  "language_info": {
   "codemirror_mode": {
    "name": "ipython",
    "version": 3
   },
   "file_extension": ".py",
   "mimetype": "text/x-python",
   "name": "python",
   "nbconvert_exporter": "python",
   "pygments_lexer": "ipython3",
   "version": "3.5.4"
  }
 },
 "nbformat": 4,
 "nbformat_minor": 1
}
