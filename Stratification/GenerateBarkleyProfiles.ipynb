{
 "cells": [
  {
   "cell_type": "markdown",
   "metadata": {},
   "source": [
    "Generate nutrient initial files to use in MITgcm runs from data."
   ]
  },
  {
   "cell_type": "markdown",
   "metadata": {},
   "source": [
    "Generate tracer initial conditions for MITgcm from Falkor and Line C data\n",
    "=========================================================================\n",
    "\n",
    "Profile interpolated from Pathways Curise 2013 at Barkley Canyon data and Dave Capelle's methane and nitrous oxide data from Line C May and September 2012 and 2013. You can also choose between data interp profile and linear interp.\n",
    "K. Ramos-Musalem"
   ]
  },
  {
   "cell_type": "code",
   "execution_count": 2,
   "metadata": {
    "collapsed": false
   },
   "outputs": [],
   "source": [
    "import matplotlib.pyplot as plt\n",
    "%matplotlib inline\n",
    "import numpy as np\n",
    "import os\n",
    "import seaborn as sns\n",
    "import struct"
   ]
  },
  {
   "cell_type": "code",
   "execution_count": 3,
   "metadata": {
    "collapsed": true
   },
   "outputs": [],
   "source": [
    "sns.set_context('notebook')\n",
    "sns.set_style('ticks')"
   ]
  },
  {
   "cell_type": "code",
   "execution_count": 5,
   "metadata": {
    "collapsed": false
   },
   "outputs": [],
   "source": [
    "def iniTracer(xsize, ysize, IniDepth, IniProfile, InterpDepth):\n",
    "    \n",
    "    InterpProfile = np.interp(InterpDepth, IniDepth , IniProfile)\n",
    "    \n",
    "    tracer = np.zeros((xsize, ysize, len(InterpDepth)))\n",
    "    \n",
    "    for ii in np.arange(xsize):\n",
    "        \n",
    "        for jj in np.arange(ysize):\n",
    "            \n",
    "            for kk in np.arange(len(InterpDepth)):\n",
    "        \n",
    "                tracer[ii,jj,kk]=InterpProfile[kk] \n",
    "            \n",
    "\n",
    "    return tracer"
   ]
  },
  {
   "cell_type": "code",
   "execution_count": 6,
   "metadata": {
    "collapsed": false
   },
   "outputs": [],
   "source": [
    "def iniTracerLin(xsize, ysize, TopVal,BotVal, Depth ):\n",
    "    \n",
    "    # Generate linear nutrient profile (i.e. C(Depth)= IniVal*Depth) \n",
    "    \n",
    "    M = (BotVal-TopVal)/(Depth[len(Depth)-1]-Depth[0])\n",
    "    b = (TopVal - M*Depth[0])*np.ones((len(Depth),1))\n",
    "    \n",
    "    tracer = np.zeros((xsize, ysize, len(Depth)))\n",
    "    \n",
    "    for ii in np.arange(xsize):\n",
    "        for jj in np.arange(ysize):\n",
    "            for kk in np.arange(len(Depth)):\n",
    "                tracer[ii,jj,kk]=M*Depth[kk]+b[kk] \n",
    "            \n",
    "\n",
    "    return tracer"
   ]
  },
  {
   "cell_type": "code",
   "execution_count": 7,
   "metadata": {
    "collapsed": false
   },
   "outputs": [],
   "source": [
    "def iniTracerLinHor(xsize, zsize, TopVal,BotVal, yvec ):\n",
    "    \n",
    "    # Generate linear nutrient profile (i.e. C(yvec)= IniVal*yvec) \n",
    "    \n",
    "    M = (BotVal-TopVal)/(yvec[len(yvec)-1]-yvec[0])\n",
    "    b = (TopVal - M*yvec[0])*np.ones((len(yvec),1))\n",
    "    \n",
    "    tracer = np.zeros((xsize,len(yvec),zsize))\n",
    "    \n",
    "    for ii in np.arange(xsize):\n",
    "        for jj in np.arange(zsize):\n",
    "            for kk in np.arange(len(yvec)):\n",
    "                tracer[ii,kk,jj]=M*yvec[kk]+b[kk] \n",
    "            \n",
    "\n",
    "    return tracer"
   ]
  },
  {
   "cell_type": "code",
   "execution_count": 8,
   "metadata": {
    "collapsed": true
   },
   "outputs": [],
   "source": [
    "def iniTracerCnt(xsize, ysize, CntVal, Depth ):\n",
    "    # Generate constant nutrient profile  \n",
    "    \n",
    "    tracer = np.ones((xsize, ysize, len(Depth)))\n",
    "    tracer = tracer*CntVal\n",
    "    \n",
    "\n",
    "    return tracer"
   ]
  },
  {
   "cell_type": "code",
   "execution_count": 9,
   "metadata": {
    "collapsed": false
   },
   "outputs": [
    {
     "name": "stdout",
     "output_type": "stream",
     "text": [
      "[   5   10   15   20   25   30   35   40   45   50   55   60   65   70\n",
      "   75   80   85   90   95  100  105  110  115  120  125  130  135  140\n",
      "  145  150  155  160  165  170  175  180  185  190  195  200  205  210\n",
      "  215  220  225  230  235  240  245  250  255  260  270  280  290  300\n",
      "  310  320  330  340  350  360  380  400  420  440  460  480  500  520\n",
      "  540  560  580  600  620  640  660  680  700  720  740  760  780  800\n",
      "  820  840  860  880  900  920  940  960  980 1000 1020 1040 1060 1080\n",
      " 1100 1120 1140 1160 1180 1200] (104,)\n"
     ]
    }
   ],
   "source": [
    "# Profile values form interp nutrient data from Falkor (see NutrientProfilesFalkor.ipynb)\n",
    "dt = np.dtype('>f8')  # float 64 big endian\n",
    "\n",
    "nx = 616\n",
    "ny = 360\n",
    "nz = 104\n",
    "\n",
    "# Depth values\n",
    "depth = [5.,20.,30.,50.,70.,100.,150.,170.,200.,300.,400.,500.,600.,700.,800.,1000.,1200.] #values form interp nutrient data \n",
    "                                                                                            # from Falkor (see NutrientProfilesFalkor.ipynb)\n",
    "depthLineC = [0.,50.,100.,150.,200.,250.,300.,350.,400.,450.,500.,550.,600.,650.,700.,750.]\n",
    "\n",
    "depthDIC = [10.0, 15.0, 20.0, 25.0, 30.0, 40.0, 50.0, 70.0, 85.0, 100.0, 125.0, \n",
    "            150.0, 160.0, 170.0, 185.0, 325.0, 350.0, 400.0, 425.0, \n",
    "            450.0, 500.0, 550.0, 600.0, 700.0, 800.0, 1000.0, 1200.0] \n",
    "# I had to use more levels to interpolate DIC because there are lots of NaNs\n",
    "\n",
    "depthTmp = [3.9, 5.0, 10.0, 15.0, 20.0, 25.0, 30.0, 40.0, 50.0, 70.0, 85.0, 100.0, 125.0, \n",
    "            150.0, 160.0, 170.0, 185.0, 200.0, 225.0, 250.0, 300.0, 325.0, 350.0, 400.0, \n",
    "            425.0, 450.0, 500.0, 550.0, 600.0, 700.0, 800.0, 1000.0, 1200.0]\n",
    "\n",
    "#zi0 = (5,10,\t15,\t20,\t25,\t30,\t35,\t40,\t45,\t50,\t55,\t60,\t65,\t70,\t75,\t80,\t85,\t90,\t95,\t100,105,\n",
    "#      110,115,120,125,130,135,140,145,150,155,160,165,170,180,190,200,210,220,230,240,250,\n",
    "#      260,280,300,320,340,360,380,400,420,440,460,480,500,520,540,560,580,600,620,640,660,#\n",
    "#      680,700,720,740,760,780,800,820,840,860,880,900,920,940,960,980,1000,1020,1040,1060,\n",
    "#      1080,1100,1120,1140,1160,1180,1200) # Original depth levels, delete soon\n",
    "\n",
    "zi = np.concatenate((np.arange(5,260,5), np.arange(260,360,10), np.arange(360,1220,20)))\n",
    "print(zi, np.shape(zi))"
   ]
  },
  {
   "cell_type": "code",
   "execution_count": 8,
   "metadata": {
    "collapsed": false
   },
   "outputs": [
    {
     "data": {
      "text/plain": [
       "Text(0.5,1,'Salinity initial profile ')"
      ]
     },
     "execution_count": 8,
     "metadata": {},
     "output_type": "execute_result"
    },
    {
     "data": {
      "image/png": "[encoded data removed]",
      "text/plain": [
       "<Figure size 288x216 with 1 Axes>"
      ]
     },
     "metadata": {},
     "output_type": "display_data"
    }
   ],
   "source": [
    "#Salinity\n",
    "\n",
    "sal = [32.05565615,  32.47904982,  32.69883153,  33.14754095,\n",
    "        33.45287546,  33.74755425,  33.89389881,  33.9139597 ,\n",
    "        33.93728968,  33.98439263,  34.04611345,  34.09233602,\n",
    "        34.14232788,  34.22413622,  34.28826251,  34.37998532,  34.4410795 ] #Falkor Salinity\n",
    "\n",
    "Sal = iniTracer(nx,ny,depth,sal,zi)\n",
    "\n",
    "# Save binary file\n",
    "tmpfile = \"%dx%dx%d/Barkley_sal_%dzlev_%dx%d.bin\" %(nx,ny,nz,nz,nx,ny)\n",
    "fileobj = open(tmpfile,mode='wb')\n",
    "Sal2 = Sal.transpose((2,0,1)) # To keep fortran order when writing as C binarynp.asfortranarray(Sal)\n",
    "Sal2.astype(dt).tofile(fileobj,\"\")\n",
    "fileobj.close()\n",
    "\n",
    "\n",
    "# PLOT\n",
    "fig, ax = plt.subplots(1,1,figsize=(4,3))\n",
    "ax.plot(np.squeeze(Sal[60,45,:]),zi,'go-')\n",
    "ax.invert_yaxis()\n",
    "plt.xlabel('Salinity / PSS-78')\n",
    "plt.ylabel('Depth / m')\n",
    "plt.title('Salinity initial profile ')\n"
   ]
  },
  {
   "cell_type": "code",
   "execution_count": 9,
   "metadata": {
    "collapsed": false
   },
   "outputs": [
    {
     "data": {
      "text/plain": [
       "Text(0.5,1,'Nitrate initial profile ')"
      ]
     },
     "execution_count": 9,
     "metadata": {},
     "output_type": "execute_result"
    },
    {
     "data": {
      "image/png": "[encoded data removed]",
      "text/plain": [
       "<Figure size 288x216 with 1 Axes>"
      ]
     },
     "metadata": {},
     "output_type": "display_data"
    }
   ],
   "source": [
    "#Nitrate\n",
    "\n",
    "nit = [  2.20769231,  14.30606356,  20.69884474,  24.54682499,\n",
    "        27.64221491,  30.40401935,  32.60791595,  33.23055095,\n",
    "        34.93009381,  37.96639598,  40.48248953,  41.87936656,\n",
    "        43.16092676,  44.42630919,  44.86319564,  45.33917039,  45.01343725] #Falkor Nitrate, umol/L\n",
    "\n",
    "Nitrate = iniTracer(nx,ny,depth,nit,zi)\n",
    "               \n",
    "# Save binary file\n",
    "tmpfile = \"%dx%dx%d/Barkley_nit_%dzlevs_%dx%d.bin\" %(nx,ny,nz,nz,nx,ny)\n",
    "fileobj = open(tmpfile,mode='wb')\n",
    "Nitrate2 = Nitrate.transpose((2,0,1)) # To keep fortran order when writing as C binary\n",
    "Nitrate2.astype(dt).tofile(fileobj,\"\")\n",
    "fileobj.close()\n",
    "\n",
    "\n",
    "# Plot\n",
    "fig, ax = plt.subplots(1,1,figsize=(4,3))\n",
    "ax.plot(np.squeeze(Nitrate[60,45,:]),zi,'go-')\n",
    "ax.invert_yaxis()\n",
    "plt.xlabel('Nitrate / $\\mu$M')\n",
    "plt.ylabel('Depth (m)')\n",
    "plt.title('Nitrate initial profile ')\n"
   ]
  },
  {
   "cell_type": "code",
   "execution_count": 23,
   "metadata": {
    "collapsed": false
   },
   "outputs": [
    {
     "data": {
      "text/plain": [
       "Text(0.5,1,'Oxygen initial profile ')"
      ]
     },
     "execution_count": 23,
     "metadata": {},
     "output_type": "execute_result"
    },
    {
     "data": {
      "image/png": "[encoded data removed]",
      "text/plain": [
       "<Figure size 288x216 with 1 Axes>"
      ]
     },
     "metadata": {},
     "output_type": "display_data"
    }
   ],
   "source": [
    "# Oxygen\n",
    "\n",
    "oxy = [ 258.64692308,  205.30523866,  189.93474682,  173.32762752,\n",
    "        148.99494704,  123.39376698,  104.07073273,  100.34682448,\n",
    "         84.75278265,   65.32870403,   42.38594405,   31.24731648,\n",
    "         22.04183918,   12.32014822,    9.56728914,   10.02871031,\n",
    "         18.18188635] #Falkor Oxygen, umol/kg\n",
    "\n",
    "Oxygen = iniTracer(nx,ny,depth,oxy,zi)\n",
    "\n",
    "# Save binary file\n",
    "tmpfile = \"%dx%dx%d/Barkley_oxy_%dzlev_%dx%d.bin\" %(nx,ny,nz,nz,nx,ny)\n",
    "fileobj = open(tmpfile,mode='wb')\n",
    "Oxygen2 = Oxygen.transpose((2,0,1)) # To keep fortran order when writing as C binary\n",
    "Oxygen2.astype(dt).tofile(fileobj,\"\")\n",
    "fileobj.close()        \n",
    "\n",
    "### PLOT Contour\n",
    "\n",
    "fig, ax = plt.subplots(1,1,figsize=(4,3))\n",
    "ax.plot(np.squeeze(Oxygen[60,45,:]),zi,'go-')\n",
    "ax.invert_yaxis()\n",
    "plt.xlabel('Oxygen / (umol/kg)')\n",
    "plt.ylabel('Depth / m ')\n",
    "plt.title('Oxygen initial profile ')"
   ]
  },
  {
   "cell_type": "code",
   "execution_count": 24,
   "metadata": {
    "collapsed": false
   },
   "outputs": [
    {
     "data": {
      "text/plain": [
       "Text(0.5,1,'Silicate initial profile ')"
      ]
     },
     "execution_count": 24,
     "metadata": {},
     "output_type": "execute_result"
    },
    {
     "data": {
      "image/png": "[encoded data removed]",
      "text/plain": [
       "<Figure size 288x216 with 1 Axes>"
      ]
     },
     "metadata": {},
     "output_type": "display_data"
    }
   ],
   "source": [
    "# Silicate\n",
    "sil = [ 9.77487179,   22.40324386,   28.481157  ,   31.81179168,\n",
    "         36.35084393,   41.51053289,   47.62601443,   48.57082304,\n",
    "         52.54408413,   61.52273871,   73.08433615,   81.12181574,\n",
    "         90.16770523,  101.05308596,  111.55221474,  126.39029233,\n",
    "        138.72363852 ] #Falkor Silicate\n",
    "\n",
    "Silicate = iniTracer(nx,ny,depth,sil,zi)\n",
    "\n",
    "# Save binary file\n",
    "tmpfile = \"%dx%dx%d/Barkley_sil_%dzlev_%dx%d.bin\" %(nx,ny,nz,nz,nx,ny)\n",
    "fileobj = open(tmpfile,mode='wb')\n",
    "Silicate2 = Silicate.transpose((2,0,1)) # To keep fortran order when writing as C binary\n",
    "Silicate2.astype(dt).tofile(fileobj,\"\")\n",
    "fileobj.close()              \n",
    "\n",
    "# Plot\n",
    "\n",
    "fig, ax = plt.subplots(1,1,figsize=(4,3))\n",
    "ax.plot(np.squeeze(Silicate[60,45,:]),zi,'go-')\n",
    "ax.invert_yaxis()\n",
    "plt.xlabel('Silicate  / $\\mu$M')    \n",
    "plt.ylabel('Depth (m)')\n",
    "plt.title('Silicate initial profile ')"
   ]
  },
  {
   "cell_type": "code",
   "execution_count": 26,
   "metadata": {
    "collapsed": false
   },
   "outputs": [
    {
     "data": {
      "text/plain": [
       "Text(0.5,1,'Phosphate initial profile ')"
      ]
     },
     "execution_count": 26,
     "metadata": {},
     "output_type": "execute_result"
    },
    {
     "data": {
      "image/png": "[encoded data removed]",
      "text/plain": [
       "<Figure size 288x216 with 1 Axes>"
      ]
     },
     "metadata": {},
     "output_type": "display_data"
    }
   ],
   "source": [
    "# Phosphate\n",
    "\n",
    "pho = [0, 0,  1.6205616 ,  1.79738767,  1.94555393,\n",
    "       2.08709737,  2.24576282,  2.27144092,  2.39342327,  2.57196961,\n",
    "       2.82463189,  2.92081108,  2.99713342,  3.06841061,  3.14757836,\n",
    "       3.16063801,  3.12403118  ] #Falkor Phosphate\n",
    "\n",
    "Phosphate = iniTracer(nx,ny,depth,pho,zi)\n",
    "              \n",
    "# Save binary file\n",
    "tmpfile = \"%dx%dx%d/Barkley_pho_%dzlev_%dx%d.bin\" %(nx,ny,nz,nz,nx,ny)\n",
    "fileobj = open(tmpfile,mode='wb')\n",
    "Phosphate2 = Phosphate.transpose((2,0,1)) # To keep fortran order when writing as C binary\n",
    "Phosphate2.astype(dt).tofile(fileobj,\"\")\n",
    "fileobj.close()              \n",
    "\n",
    "# Plot \n",
    "fig, ax = plt.subplots(1,1,figsize=(4,3))\n",
    "ax.plot(np.squeeze(Phosphate[60,45,:]),zi,'go-')\n",
    "ax.invert_yaxis()\n",
    "plt.xlabel('Phosphate / $\\mu$M$')\n",
    "plt.ylabel('Depth / m')\n",
    "plt.title('Phosphate initial profile ')"
   ]
  },
  {
   "cell_type": "code",
   "execution_count": 27,
   "metadata": {
    "collapsed": false
   },
   "outputs": [
    {
     "data": {
      "text/plain": [
       "Text(0.5,1,'Methane initial profile ')"
      ]
     },
     "execution_count": 27,
     "metadata": {},
     "output_type": "execute_result"
    },
    {
     "data": {
      "image/png": "[encoded data removed]",
      "text/plain": [
       "<Figure size 288x216 with 1 Axes>"
      ]
     },
     "metadata": {},
     "output_type": "display_data"
    }
   ],
   "source": [
    "# Methane\n",
    "\n",
    "met = [ 5.7       ,  10.64469773,  12.39183632,  17.50460996,\n",
    "        36.27632856,  40.79841802,  40.55482783,  40.51003523,\n",
    "        40.46664286,  41.40465804,  42.34615163,  40.09929176,\n",
    "        7.96460677,   8.29779559,   8.8488978 ,   9.4  ] # LineC Methane\n",
    "\n",
    "Methane = iniTracer(nx,ny,depthLineC,met,zi)\n",
    "             \n",
    "# Save binary file\n",
    "tmpfile = \"%dx%dx%d/LineCSep2013_met_%dzlev_%dx%d.bin\" %(nx,ny,nz,nz,nx,ny)\n",
    "fileobj = open(tmpfile,mode='wb')\n",
    "Methane2 = Methane.transpose((2,0,1)) # To keep fortran order when writing as C binary\n",
    "Methane2.astype(dt).tofile(fileobj,\"\")\n",
    "fileobj.close()              \n",
    "\n",
    "# Plot\n",
    "\n",
    "fig, ax = plt.subplots(1,1,figsize=(4,3))\n",
    "ax.plot(np.squeeze(Methane[60,45,:]),zi,'go-')\n",
    "ax.invert_yaxis()\n",
    "plt.xlabel('Methane / nM')    \n",
    "plt.ylabel('Depth / m')\n",
    "plt.title('Methane initial profile ')"
   ]
  },
  {
   "cell_type": "code",
   "execution_count": 10,
   "metadata": {
    "collapsed": false
   },
   "outputs": [
    {
     "data": {
      "text/plain": [
       "Text(0.5,1,'Nitrous oxide initial profile ')"
      ]
     },
     "execution_count": 10,
     "metadata": {},
     "output_type": "execute_result"
    },
    {
     "data": {
      "image/png": "[encoded data removed]",
      "text/plain": [
       "<Figure size 288x216 with 1 Axes>"
      ]
     },
     "metadata": {},
     "output_type": "display_data"
    }
   ],
   "source": [
    "# Nitrous Oxide\n",
    "\n",
    "nox = [  10.35      ,  19.00521367,  23.30548951,  27.66736277,\n",
    "        28.00249004,  28.3022331 ,  28.55923913,  28.73341284,\n",
    "        28.91225443,  31.05146831,  33.1970117 ,  33.93446295,\n",
    "        35.92803017,  35.91032064,  35.83016032,  35.75  ] # LineC Methane\n",
    "\n",
    "NitOx = iniTracer(nx,ny,depthLineC,nox,zi)\n",
    "         \n",
    "# Save binary file\n",
    "tmpfile = \"%dx%dx%d/LineCSep2013_nox_%dzlev_%dx%d.bin\" %(nx,ny,nz,nz,nx,ny)\n",
    "fileobj = open(tmpfile,mode='wb')\n",
    "NitOx2 = NitOx.transpose((2,0,1)) # To keep fortran order when writing as C binary\n",
    "NitOx2.astype(dt).tofile(fileobj,\"\")\n",
    "fileobj.close()              \n",
    "\n",
    "# Plot \n",
    "fig, ax = plt.subplots(1,1,figsize=(4,3))\n",
    "ax.plot(np.squeeze(NitOx[60,45,:]),zi,'go-')\n",
    "ax.invert_yaxis()\n",
    "plt.xlabel('Nitrous Oxide / nM')\n",
    "plt.ylabel('Depth / m')\n",
    "plt.title('Nitrous oxide initial profile ')"
   ]
  },
  {
   "cell_type": "code",
   "execution_count": 11,
   "metadata": {
    "collapsed": false
   },
   "outputs": [
    {
     "data": {
      "text/plain": [
       "Text(0.5,1,'DIC initial profile ')"
      ]
     },
     "execution_count": 11,
     "metadata": {},
     "output_type": "execute_result"
    },
    {
     "data": {
      "image/png": "[encoded data removed]",
      "text/plain": [
       "<Figure size 288x216 with 1 Axes>"
      ]
     },
     "metadata": {},
     "output_type": "display_data"
    }
   ],
   "source": [
    "# DIC\n",
    "\n",
    "dic = [1988.137, 2020.864, 2055.613, 2077.559, 2099.430, 2136.736, 2145.807,\n",
    "       2160.378,  2169.597,  2182.130,  2203.547,    2220.859,\n",
    "       2226.993,   2225.535,  2239.758,   2272.775,  2279.751,  2293.704,\n",
    "       2298.125,  2301.907 ,   2309.473,  2317.095,  2324.727,\n",
    "       2339.422,  2352.259,  2369.299,  2376.510] # Falkor DIC, bottle measurements, interp from salinity\n",
    "\n",
    "DIC = iniTracer(nx,ny,depthDIC,dic,zi)\n",
    "         \n",
    "# Save binary file\n",
    "tmpfile = \"%dx%dx%d/Barkley_DIC_%dzlev_%dx%d.bin\" %(nx,ny,nz,nz,nx,ny)\n",
    "fileobj = open(tmpfile,mode='wb')\n",
    "DIC2 = DIC.transpose((2,0,1)) # To keep fortran order when writing as C binary\n",
    "DIC2.astype(dt).tofile(fileobj,\"\")\n",
    "fileobj.close()              \n",
    "\n",
    "# Plot \n",
    "fig, ax = plt.subplots(1,1,figsize=(4,3))\n",
    "ax.plot(np.squeeze(DIC[60,45,:]),zi,'go-')\n",
    "ax.invert_yaxis()\n",
    "plt.xlabel('DIC / $\\mu$M')\n",
    "plt.ylabel('Depth / m')\n",
    "plt.title('DIC initial profile ')"
   ]
  },
  {
   "cell_type": "code",
   "execution_count": 12,
   "metadata": {
    "collapsed": false
   },
   "outputs": [
    {
     "data": {
      "text/plain": [
       "Text(0.5,1,'Alkalinity initial profile ')"
      ]
     },
     "execution_count": 12,
     "metadata": {},
     "output_type": "execute_result"
    },
    {
     "data": {
      "image/png": "[encoded data removed]",
      "text/plain": [
       "<Figure size 288x216 with 1 Axes>"
      ]
     },
     "metadata": {},
     "output_type": "display_data"
    }
   ],
   "source": [
    "# Alkalinity\n",
    "\n",
    "alk = [2180.908,  2184.611,  2188.541,  2191.024,   2193.498,  2197.718,  2202.834,\n",
    "       2214.932,  2224.044,  2239.146,  2252.351,   2257.815,  2258.880,  2258.627,  \n",
    "       2260.944,  2283.506,  2284.351,  2286.042,   2289.345,  2293.262,  2301.098, \n",
    "       2311.357,  2322.016,  2327.346,  2321.732,   2361.124,  2375.323] \n",
    "# Falkor Alkalinity, bottle measurements, interp from salinity\n",
    "\n",
    "alkalinity = iniTracer(nx,ny,depthDIC,alk,zi)\n",
    "         \n",
    "# Save binary file\n",
    "tmpfile = \"%dx%dx%d/Barkley_Alk_%dzlev_%dx%d.bin\" %(nx,ny,nz,nz,nx,ny)\n",
    "fileobj = open(tmpfile,mode='wb')\n",
    "alkalinity2 = alkalinity.transpose((2,0,1)) # To keep fortran order when writing as C binary\n",
    "alkalinity2.astype(dt).tofile(fileobj,\"\")\n",
    "fileobj.close()              \n",
    "\n",
    "# Plot \n",
    "fig, ax = plt.subplots(1,1,figsize=(4,3))\n",
    "ax.plot(np.squeeze(alkalinity[60,45,:]),zi,'go-')\n",
    "ax.invert_yaxis()\n",
    "plt.xlabel('alkalinity / $\\mu$M')\n",
    "plt.ylabel('Depth / m')\n",
    "plt.title('Alkalinity initial profile ')"
   ]
  },
  {
   "cell_type": "code",
   "execution_count": 10,
   "metadata": {
    "collapsed": false
   },
   "outputs": [
    {
     "data": {
      "text/plain": [
       "Text(0.5,1,'Temperature initial profile ')"
      ]
     },
     "execution_count": 10,
     "metadata": {},
     "output_type": "execute_result"
    },
    {
     "data": {
      "image/png": "[encoded data removed]",
      "text/plain": [
       "<Figure size 288x216 with 1 Axes>"
      ]
     },
     "metadata": {},
     "output_type": "display_data"
    }
   ],
   "source": [
    "# Temperature\n",
    "\n",
    "temp = [16.223,      16.12273077, 13.84015885, 12.46905338, 10.98482542,\n",
    "        9.88305218,  8.75295081,  7.90499081,  7.50464058,  7.36712675,  7.32807074,\n",
    "        7.29359846,  7.14318651,  7.00858172,  6.96357151,  7.08054167,  6.93332222,\n",
    "        6.77165556,  6.52785872,  6.29,        5.90254613,  5.8058254 ,  5.72869246,\n",
    "        5.57442659,  5.48808913,  5.39945054,  5.22217336,  5.04663762 , 4.8713901,\n",
    "        4.54855423,  4.19431287,  3.63221461,  3.21432261]\n",
    "# Falkor Temp from Debbie\n",
    "\n",
    "temperature = iniTracer(nx,ny,depthTmp,temp,zi)\n",
    "         \n",
    "# Save binary file\n",
    "tmpfile = \"%dx%dx%d/Barkley_Tmp_%dzlev_%dx%d.bin\" %(nx,ny,nz,nz,nx,ny)\n",
    "fileobj = open(tmpfile,mode='wb')\n",
    "temperature2 = temperature.transpose((2,0,1)) # To keep fortran order when writing as C binary\n",
    "temperature2.astype(dt).tofile(fileobj,\"\")\n",
    "fileobj.close()              \n",
    "\n",
    "# Plot \n",
    "fig, ax = plt.subplots(1,1,figsize=(4,3))\n",
    "ax.plot(np.squeeze(temperature[60,45,:]),zi,'go-')\n",
    "ax.invert_yaxis()\n",
    "plt.xlabel('temperature / deg C')\n",
    "plt.ylabel('Depth / m')\n",
    "plt.title('Temperature initial profile ')"
   ]
  },
  {
   "cell_type": "code",
   "execution_count": 13,
   "metadata": {
    "collapsed": false
   },
   "outputs": [
    {
     "data": {
      "text/plain": [
       "Text(0.5,1,'salinity initial profile ')"
      ]
     },
     "execution_count": 13,
     "metadata": {},
     "output_type": "execute_result"
    },
    {
     "data": {
      "image/png": "[encoded data removed]",
      "text/plain": [
       "<Figure size 288x216 with 1 Axes>"
      ]
     },
     "metadata": {},
     "output_type": "display_data"
    }
   ],
   "source": [
    "# Salinity form bottles\n",
    "\n",
    "sal = [ 31.973,      31.97455128, 32.14363005, 32.29472647, 32.45515679,\n",
    "        32.55647699, 32.65745322, 32.82968799, 32.98849269, 33.29924116, 33.46572156,\n",
    "        33.63072897, 33.78824405, 33.86513148, 33.88408962, 33.87958333, 33.91457037,\n",
    "        33.93012593, 33.94037748, 33.947     , 33.97006273, 33.99015873, 34.01198413,\n",
    "        34.05563492, 34.07077375, 34.08424094, 34.11117532, 34.13581287, 34.1600703,\n",
    "        34.22160896, 34.28401188, 34.38931446, 34.44126756]\n",
    "\n",
    "\n",
    "# Falkor Temp from Debbie\n",
    "\n",
    "salinity = iniTracer(nx,ny,depthTmp,sal,zi)\n",
    "         \n",
    "# Save binary file\n",
    "tmpfile = \"%dx%dx%d/Barkley_SalB_%dzlev_%dx%d.bin\" %(nx,ny,nz,nz,nx,ny)\n",
    "fileobj = open(tmpfile,mode='wb')\n",
    "salinity2 = salinity.transpose((2,0,1)) # To keep fortran order when writing as C binary\n",
    "salinity2.astype(dt).tofile(fileobj,\"\")\n",
    "fileobj.close()              \n",
    "\n",
    "# Plot \n",
    "fig, ax = plt.subplots(1,1,figsize=(4,3))\n",
    "ax.plot(np.squeeze(salinity[60,45,:]),zi,'go-')\n",
    "ax.invert_yaxis()\n",
    "plt.xlabel('salinity / pss-78')\n",
    "plt.ylabel('Depth / m')\n",
    "plt.title('salinity initial profile ')"
   ]
  },
  {
   "cell_type": "markdown",
   "metadata": {},
   "source": [
    "Let's check what we wrote..."
   ]
  },
  {
   "cell_type": "code",
   "execution_count": 14,
   "metadata": {
    "collapsed": false
   },
   "outputs": [],
   "source": [
    "fileNAME = \"%dx%dx%d/Barkley_Tmp_%dzlev_%dx%d.bin\" %(nx,ny,nz,nz,nx,ny)\n",
    "tempp=np.fromfile(fileNAME, dt)"
   ]
  },
  {
   "cell_type": "code",
   "execution_count": 15,
   "metadata": {
    "collapsed": false
   },
   "outputs": [
    {
     "data": {
      "text/plain": [
       "(616, 360, 104)"
      ]
     },
     "execution_count": 15,
     "metadata": {},
     "output_type": "execute_result"
    }
   ],
   "source": [
    "temppp=np.reshape(tempp,(nx,ny,len(zi)),order='F')\n",
    "np.shape(temppp)"
   ]
  },
  {
   "cell_type": "code",
   "execution_count": 16,
   "metadata": {
    "collapsed": false
   },
   "outputs": [
    {
     "name": "stdout",
     "output_type": "stream",
     "text": [
      "16.12273077\n"
     ]
    }
   ],
   "source": [
    "print(max(tempp))"
   ]
  },
  {
   "cell_type": "code",
   "execution_count": 17,
   "metadata": {
    "collapsed": false
   },
   "outputs": [
    {
     "data": {
      "text/plain": [
       "<matplotlib.colorbar.Colorbar at 0x7fbe4ff3d160>"
      ]
     },
     "execution_count": 17,
     "metadata": {},
     "output_type": "execute_result"
    },
    {
     "data": {
      "image/png": "[encoded data removed]",
      "text/plain": [
       "<Figure size 576x396 with 2 Axes>"
      ]
     },
     "metadata": {},
     "output_type": "display_data"
    }
   ],
   "source": [
    "plt.pcolor(temppp[80,:,:], cmap='Spectral')\n",
    "plt.colorbar()"
   ]
  },
  {
   "cell_type": "code",
   "execution_count": 18,
   "metadata": {
    "collapsed": false
   },
   "outputs": [
    {
     "data": {
      "text/plain": [
       "(90,)"
      ]
     },
     "execution_count": 18,
     "metadata": {},
     "output_type": "execute_result"
    }
   ],
   "source": [
    "delz = np.array([5.,5.,5.,5.,5.,5.,5.,5.,5.,5.,5.,5.,5.,5.,5.,5.,5.,5.,5.,5.,5.,5.,\n",
    "                 5.,5.,5.,5.,5.,5.,5.,5.,5.,5.,5.,5.,10.,10.,10.,10.,10.,10.,10.,10.,10.,\n",
    "                 20.,20.,20.,20.,20.,20.,20.,20.,20.,20.,20.,20.,20.,20.,20.,20.,20.,20.,\n",
    "                 20.,20.,20.,20.,20.,20.,20.,20.,20.,20.,20.,20.,20.,20.,20.,20.,20.,20.,\n",
    "                 20.,20.,20.,20.,20.,20.,20.,20.,20.,20.,20.])\n",
    "np.shape(delz)"
   ]
  },
  {
   "cell_type": "code",
   "execution_count": 19,
   "metadata": {
    "collapsed": false
   },
   "outputs": [
    {
     "name": "stdout",
     "output_type": "stream",
     "text": [
      "[ 5  5  5  5  5  5  5  5  5  5  5  5  5  5  5  5  5  5  5  5  5  5  5  5\n",
      "  5  5  5  5  5  5  5  5  5  5  5  5  5  5  5  5  5  5  5  5  5  5  5  5\n",
      "  5  5  5 10 10 10 10 10 10 10 10 10 10 20 20 20 20 20 20 20 20 20 20 20\n",
      " 20 20 20 20 20 20 20 20 20 20 20 20 20 20 20 20 20 20 20 20 20 20 20 20\n",
      " 20 20 20 20 20 20 20]\n"
     ]
    },
    {
     "data": {
      "text/plain": [
       "(103,)"
      ]
     },
     "execution_count": 19,
     "metadata": {},
     "output_type": "execute_result"
    }
   ],
   "source": [
    "print(zi[1:]-zi[:-1])\n",
    "np.shape(zi[1:]-zi[:-1])"
   ]
  },
  {
   "cell_type": "code",
   "execution_count": 20,
   "metadata": {
    "collapsed": false
   },
   "outputs": [
    {
     "name": "stdout",
     "output_type": "stream",
     "text": [
      "[ 5  5  5  5  5  5  5  5  5  5  5  5  5  5  5  5  5  5  5  5  5  5  5  5\n",
      "  5  5  5  5  5  5  5  5  5  5 10 10 10 10 10 10 10 10 10 20 20 20 20 20\n",
      " 20 20 20 20 20 20 20 20 20 20 20 20 20 20 20 20 20 20 20 20 20 20 20 20\n",
      " 20 20 20 20 20 20 20 20 20 20 20 20 20 20 20 20 20 20]\n"
     ]
    },
    {
     "data": {
      "text/plain": [
       "(90,)"
      ]
     },
     "execution_count": 20,
     "metadata": {},
     "output_type": "execute_result"
    }
   ],
   "source": [
    "zi0 = np.array([0,5,10,\t15,\t20,\t25,\t30,\t35,\t40,\t45,\t50,\t55,\t60,\t65,\t70,\t75,\t80,\t85,\t90,\t95,\t100,105,\n",
    "                110,115,120,125,130,135,140,145,150,155,160,165,170,180,190,200,210,220,230,240,250,\n",
    "                260,280,300,320,340,360,380,400,420,440,460,480,500,520,540,560,580,600,620,640,660,#\n",
    "                680,700,720,740,760,780,800,820,840,860,880,900,920,940,960,980,1000,1020,1040,1060,\n",
    "                1080,1100,1120,1140,1160,1180,1200]) \n",
    "\n",
    "print(zi0[1:]-zi0[:-1])\n",
    "np.shape(zi0[1:]-zi0[:-1])"
   ]
  },
  {
   "cell_type": "code",
   "execution_count": 21,
   "metadata": {
    "collapsed": false
   },
   "outputs": [
    {
     "data": {
      "text/plain": [
       "array([0., 0., 0., 0., 0., 0., 0., 0., 0., 0., 0., 0., 0., 0., 0., 0., 0.,\n",
       "       0., 0., 0., 0., 0., 0., 0., 0., 0., 0., 0., 0., 0., 0., 0., 0., 0.,\n",
       "       0., 0., 0., 0., 0., 0., 0., 0., 0., 0., 0., 0., 0., 0., 0., 0., 0.,\n",
       "       0., 0., 0., 0., 0., 0., 0., 0., 0., 0., 0., 0., 0., 0., 0., 0., 0.,\n",
       "       0., 0., 0., 0., 0., 0., 0., 0., 0., 0., 0., 0., 0., 0., 0., 0., 0.,\n",
       "       0., 0., 0., 0., 0.])"
      ]
     },
     "execution_count": 21,
     "metadata": {},
     "output_type": "execute_result"
    }
   ],
   "source": [
    "delz-(zi0[1:]-zi0[:-1])"
   ]
  },
  {
   "cell_type": "code",
   "execution_count": null,
   "metadata": {
    "collapsed": true
   },
   "outputs": [],
   "source": []
  }
 ],
 "metadata": {
  "anaconda-cloud": {},
  "kernelspec": {
   "display_name": "Python [default]",
   "language": "python",
   "name": "python3"
  },
  "language_info": {
   "codemirror_mode": {
    "name": "ipython",
    "version": 3
   },
   "file_extension": ".py",
   "mimetype": "text/x-python",
   "name": "python",
   "nbconvert_exporter": "python",
   "pygments_lexer": "ipython3",
   "version": "3.5.4"
  }
 },
 "nbformat": 4,
 "nbformat_minor": 0
}
