{
 "cells": [
  {
   "cell_type": "markdown",
   "metadata": {},
   "source": []
  },
  {
   "cell_type": "markdown",
   "metadata": {},
   "source": [
    "Find volume-weighted average vertical diffusivity 3D file for MITgcm\n",
    "=========================================================================\n",
    "\n",
    "Set values of diffusivity to volume-weighter average of diffusivity from another Kv file. For example, I would like to compare the flux of tracer in a canyon run with enhanced diffusivity within the canyon to one with the same average diffusivity, this is the average diffusivity in the domain per cell weigthed by the volume of each cell.\n",
    "\n",
    "The result is a single number to enter to the ptracers.data file in KvDiffTr01\n",
    "\n",
    "Avg vertical diffusivities I found for the whole domain:\n",
    "\n",
    "\n",
    "360x360x90/KrDiff1E_5_1E_3_90zlev_360x360_Quad.bin is 0.000038\n",
    "\n",
    "360x360x90/KrDiff1E_5_1E_4_90zlev_360x360_Quad.bin is 0.000013\n",
    "\n",
    "360x360x90/KrDiff1E_7_1E_4_90zlev_360x360_Quad.bin is 0.000003\n",
    "\n",
    "360x360x90/KrDiff1E_7_1E_3_90zlev_360x360_Quad.bin is 0.000028\n",
    "\n",
    "K. Ramos-Musalem"
   ]
  },
  {
   "cell_type": "code",
   "execution_count": 1,
   "metadata": {
    "collapsed": false
   },
   "outputs": [],
   "source": [
    "import os\n",
    "\n",
    "import numpy as np\n",
    "\n",
    "import matplotlib.pyplot as plt\n",
    "\n",
    "from scipy.stats import nanmean\n",
    "\n",
    "from math import *\n",
    "\n",
    "import struct\n",
    "\n",
    "from netCDF4 import Dataset\n",
    "\n",
    "import  sys\n",
    "\n",
    "%matplotlib inline"
   ]
  },
  {
   "cell_type": "code",
   "execution_count": 2,
   "metadata": {
    "collapsed": false
   },
   "outputs": [],
   "source": [
    "lib_path = os.path.abspath('../PythonModulesMITgcm') # Add absolute path to my python scripts\n",
    "sys.path.append(lib_path)\n",
    "\n",
    "import ReadOutTools_MITgcm as rout "
   ]
  },
  {
   "cell_type": "code",
   "execution_count": 3,
   "metadata": {
    "collapsed": true
   },
   "outputs": [],
   "source": [
    "nx = 360\n",
    "ny = 360\n",
    "nz = 90"
   ]
  },
  {
   "cell_type": "code",
   "execution_count": 5,
   "metadata": {
    "collapsed": false
   },
   "outputs": [],
   "source": [
    "## Get grid variables\n",
    "filename='/ocean/kramosmu/MITgcm/TracerExperiments/CNTDIFF/run02/gridGlob.nc'\n",
    "GridOut = Dataset(filename)\n",
    "\n",
    "#for dimobj in GridOut.variables.values():\n",
    "#    print dimobj\n",
    "\n",
    "hFacC = rout.getField(filename,'HFacC') #(90,360,360)\n",
    "hFacCmasked = np.ma.masked_values(hFacC, 0)\n",
    "rA = rout.getField(filename,'rA')\n",
    "\n",
    "drF= GridOut.variables['drF']\n",
    "MASKhFacC = np.ma.getmask(hFacCmasked)\n"
   ]
  },
  {
   "cell_type": "code",
   "execution_count": 11,
   "metadata": {
    "collapsed": false
   },
   "outputs": [
    {
     "name": "stdout",
     "output_type": "stream",
     "text": [
      "The volume is 5.968743e+12 m^3\n"
     ]
    }
   ],
   "source": [
    "# Volume of each cell in one array:\n",
    "rA_exp = np.expand_dims(rA,0)\n",
    "drF_exp = np.expand_dims(np.expand_dims(drF,1),1)\n",
    "rA_exp = rA_exp + np.zeros(hFacC.shape)\n",
    "drF_exp = drF_exp + np.zeros(hFacC.shape)\n",
    "    \n",
    "Volume = hFacC*drF_exp*rA_exp\n",
    "\n",
    "print('The volume is %e m^3' %np.sum(Volume))"
   ]
  },
  {
   "cell_type": "code",
   "execution_count": 33,
   "metadata": {
    "collapsed": false
   },
   "outputs": [
    {
     "data": {
      "text/plain": [
       "<matplotlib.colorbar.Colorbar instance at 0x7f8aa7d35e18>"
      ]
     },
     "execution_count": 33,
     "metadata": {},
     "output_type": "execute_result"
    },
    {
     "data": {
      "image/png": "[encoded data removed]",
      "text/plain": [
       "<matplotlib.figure.Figure at 0x7f8acf1c3d50>"
      ]
     },
     "metadata": {},
     "output_type": "display_data"
    }
   ],
   "source": [
    "# Get Kv values from binary file\n",
    "dt = np.dtype('>f8')  # float 64 big endian\n",
    "\n",
    "fileNAME = \"%dx%dx%d/KrDiff1E_7_1E_3_%dzlev_%dx%d_Quad.bin\" %(nx,ny,nz,nz,nx,ny)\n",
    "kv=np.fromfile(fileNAME, dt)\n",
    "\n",
    "Kv=np.reshape(kv,(nz,ny,nx),order='C')\n",
    "np.shape(Kv)\n",
    "\n",
    "plt.pcolor(Kv[29,:,:])\n",
    "plt.colorbar()"
   ]
  },
  {
   "cell_type": "code",
   "execution_count": 34,
   "metadata": {
    "collapsed": false
   },
   "outputs": [],
   "source": [
    "# Calculate volume-weighted average\n",
    "\n",
    "AvgKv = np.sum(Kv*Volume)/(np.sum(Volume))"
   ]
  },
  {
   "cell_type": "code",
   "execution_count": 35,
   "metadata": {
    "collapsed": false
   },
   "outputs": [
    {
     "name": "stdout",
     "output_type": "stream",
     "text": [
      "The volume-weighted average kv for file 360x360x90/KrDiff1E_7_1E_3_90zlev_360x360_Quad.bin is 0.000028\n"
     ]
    }
   ],
   "source": [
    "print('The volume-weighted average kv for file %s is %f' %(fileNAME, AvgKv))"
   ]
  },
  {
   "cell_type": "code",
   "execution_count": null,
   "metadata": {
    "collapsed": false
   },
   "outputs": [],
   "source": []
  },
  {
   "cell_type": "code",
   "execution_count": null,
   "metadata": {
    "collapsed": false
   },
   "outputs": [],
   "source": []
  },
  {
   "cell_type": "code",
   "execution_count": null,
   "metadata": {
    "collapsed": false
   },
   "outputs": [],
   "source": [
    "\n"
   ]
  },
  {
   "cell_type": "code",
   "execution_count": null,
   "metadata": {
    "collapsed": false
   },
   "outputs": [],
   "source": [
    "\n"
   ]
  },
  {
   "cell_type": "code",
   "execution_count": null,
   "metadata": {
    "collapsed": false
   },
   "outputs": [],
   "source": []
  },
  {
   "cell_type": "code",
   "execution_count": null,
   "metadata": {
    "collapsed": false
   },
   "outputs": [],
   "source": [
    "\n"
   ]
  },
  {
   "cell_type": "code",
   "execution_count": null,
   "metadata": {
    "collapsed": false
   },
   "outputs": [],
   "source": [
    "\n"
   ]
  },
  {
   "cell_type": "code",
   "execution_count": null,
   "metadata": {
    "collapsed": false
   },
   "outputs": [],
   "source": [
    "\n"
   ]
  },
  {
   "cell_type": "code",
   "execution_count": null,
   "metadata": {
    "collapsed": false
   },
   "outputs": [],
   "source": []
  },
  {
   "cell_type": "code",
   "execution_count": null,
   "metadata": {
    "collapsed": false
   },
   "outputs": [],
   "source": []
  },
  {
   "cell_type": "code",
   "execution_count": null,
   "metadata": {
    "collapsed": false
   },
   "outputs": [],
   "source": []
  },
  {
   "cell_type": "code",
   "execution_count": null,
   "metadata": {
    "collapsed": false
   },
   "outputs": [],
   "source": []
  },
  {
   "cell_type": "code",
   "execution_count": null,
   "metadata": {
    "collapsed": true
   },
   "outputs": [],
   "source": []
  }
 ],
 "metadata": {
  "kernelspec": {
   "display_name": "Python 2",
   "language": "python",
   "name": "python2"
  },
  "language_info": {
   "codemirror_mode": {
    "name": "ipython",
    "version": 2
   },
   "file_extension": ".py",
   "mimetype": "text/x-python",
   "name": "python",
   "nbconvert_exporter": "python",
   "pygments_lexer": "ipython2",
   "version": "2.7.9"
  }
 },
 "nbformat": 4,
 "nbformat_minor": 0
}
